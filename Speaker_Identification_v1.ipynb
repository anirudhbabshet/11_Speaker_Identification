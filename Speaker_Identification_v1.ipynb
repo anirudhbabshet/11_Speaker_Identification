{
  "cells": [
    {
      "cell_type": "code",
      "execution_count": 1,
      "metadata": {
        "id": "Eq5GcAS0TaMe"
      },
      "outputs": [],
      "source": [
        "import os\n",
        "import pickle\n",
        "import warnings\n",
        "import librosa\n",
        "import numpy as np\n",
        "import pandas as pd\n",
        "from sklearn.cluster import AgglomerativeClustering\n",
        "from sklearn.preprocessing import StandardScaler, normalize\n",
        "from sklearn.mixture import *\n",
        "from matplotlib import pyplot as plt\n",
        "import numpy as np"
      ]
    },
    {
      "cell_type": "markdown",
      "metadata": {
        "id": "j8x5HbeXUR69"
      },
      "source": [
        "\n",
        "**Defining segment length frame rate and bit rate**"
      ]
    },
    {
      "cell_type": "code",
      "execution_count": 2,
      "metadata": {
        "id": "eDQ6ijfhTvv9"
      },
      "outputs": [],
      "source": [
        "segLen,frameRate,numMix = 3,50,128"
      ]
    },
    {
      "cell_type": "markdown",
      "metadata": {
        "id": "3DsqrFq1UMJv"
      },
      "source": [
        "\n",
        "**Function for Voice Activity Detection**"
      ]
    },
    {
      "cell_type": "code",
      "execution_count": 3,
      "metadata": {
        "id": "_jDdzMO7T0sz"
      },
      "outputs": [],
      "source": [
        "def VoiceActivityDetection(wavData, frameRate):\n",
        "    # uses the librosa library to compute short-term energy\n",
        "    ste = librosa.feature.rms(wavData,hop_length=int(16000/frameRate)).T\n",
        "    thresh = 0.1*(np.percentile(ste,97.5) + 9*np.percentile(ste,2.5))    # Trim 5% off and set threshold as 0.1x of the ste range\n",
        "    return (ste>thresh).astype('bool')"
      ]
    },
    {
      "cell_type": "code",
      "execution_count": 4,
      "metadata": {
        "colab": {
          "base_uri": "https://localhost:8080/",
          "height": 74
        },
        "id": "yvV8Ahp0T5dH",
        "outputId": "253166ee-2d32-4c9b-b46b-bbe1c892cd42"
      },
      "outputs": [
        {
          "output_type": "display_data",
          "data": {
            "text/plain": [
              "<IPython.core.display.HTML object>"
            ],
            "text/html": [
              "\n",
              "     <input type=\"file\" id=\"files-241d6ed3-986a-412d-af75-83f213be702c\" name=\"files[]\" multiple disabled\n",
              "        style=\"border:none\" />\n",
              "     <output id=\"result-241d6ed3-986a-412d-af75-83f213be702c\">\n",
              "      Upload widget is only available when the cell has been executed in the\n",
              "      current browser session. Please rerun this cell to enable.\n",
              "      </output>\n",
              "      <script>// Copyright 2017 Google LLC\n",
              "//\n",
              "// Licensed under the Apache License, Version 2.0 (the \"License\");\n",
              "// you may not use this file except in compliance with the License.\n",
              "// You may obtain a copy of the License at\n",
              "//\n",
              "//      http://www.apache.org/licenses/LICENSE-2.0\n",
              "//\n",
              "// Unless required by applicable law or agreed to in writing, software\n",
              "// distributed under the License is distributed on an \"AS IS\" BASIS,\n",
              "// WITHOUT WARRANTIES OR CONDITIONS OF ANY KIND, either express or implied.\n",
              "// See the License for the specific language governing permissions and\n",
              "// limitations under the License.\n",
              "\n",
              "/**\n",
              " * @fileoverview Helpers for google.colab Python module.\n",
              " */\n",
              "(function(scope) {\n",
              "function span(text, styleAttributes = {}) {\n",
              "  const element = document.createElement('span');\n",
              "  element.textContent = text;\n",
              "  for (const key of Object.keys(styleAttributes)) {\n",
              "    element.style[key] = styleAttributes[key];\n",
              "  }\n",
              "  return element;\n",
              "}\n",
              "\n",
              "// Max number of bytes which will be uploaded at a time.\n",
              "const MAX_PAYLOAD_SIZE = 100 * 1024;\n",
              "\n",
              "function _uploadFiles(inputId, outputId) {\n",
              "  const steps = uploadFilesStep(inputId, outputId);\n",
              "  const outputElement = document.getElementById(outputId);\n",
              "  // Cache steps on the outputElement to make it available for the next call\n",
              "  // to uploadFilesContinue from Python.\n",
              "  outputElement.steps = steps;\n",
              "\n",
              "  return _uploadFilesContinue(outputId);\n",
              "}\n",
              "\n",
              "// This is roughly an async generator (not supported in the browser yet),\n",
              "// where there are multiple asynchronous steps and the Python side is going\n",
              "// to poll for completion of each step.\n",
              "// This uses a Promise to block the python side on completion of each step,\n",
              "// then passes the result of the previous step as the input to the next step.\n",
              "function _uploadFilesContinue(outputId) {\n",
              "  const outputElement = document.getElementById(outputId);\n",
              "  const steps = outputElement.steps;\n",
              "\n",
              "  const next = steps.next(outputElement.lastPromiseValue);\n",
              "  return Promise.resolve(next.value.promise).then((value) => {\n",
              "    // Cache the last promise value to make it available to the next\n",
              "    // step of the generator.\n",
              "    outputElement.lastPromiseValue = value;\n",
              "    return next.value.response;\n",
              "  });\n",
              "}\n",
              "\n",
              "/**\n",
              " * Generator function which is called between each async step of the upload\n",
              " * process.\n",
              " * @param {string} inputId Element ID of the input file picker element.\n",
              " * @param {string} outputId Element ID of the output display.\n",
              " * @return {!Iterable<!Object>} Iterable of next steps.\n",
              " */\n",
              "function* uploadFilesStep(inputId, outputId) {\n",
              "  const inputElement = document.getElementById(inputId);\n",
              "  inputElement.disabled = false;\n",
              "\n",
              "  const outputElement = document.getElementById(outputId);\n",
              "  outputElement.innerHTML = '';\n",
              "\n",
              "  const pickedPromise = new Promise((resolve) => {\n",
              "    inputElement.addEventListener('change', (e) => {\n",
              "      resolve(e.target.files);\n",
              "    });\n",
              "  });\n",
              "\n",
              "  const cancel = document.createElement('button');\n",
              "  inputElement.parentElement.appendChild(cancel);\n",
              "  cancel.textContent = 'Cancel upload';\n",
              "  const cancelPromise = new Promise((resolve) => {\n",
              "    cancel.onclick = () => {\n",
              "      resolve(null);\n",
              "    };\n",
              "  });\n",
              "\n",
              "  // Wait for the user to pick the files.\n",
              "  const files = yield {\n",
              "    promise: Promise.race([pickedPromise, cancelPromise]),\n",
              "    response: {\n",
              "      action: 'starting',\n",
              "    }\n",
              "  };\n",
              "\n",
              "  cancel.remove();\n",
              "\n",
              "  // Disable the input element since further picks are not allowed.\n",
              "  inputElement.disabled = true;\n",
              "\n",
              "  if (!files) {\n",
              "    return {\n",
              "      response: {\n",
              "        action: 'complete',\n",
              "      }\n",
              "    };\n",
              "  }\n",
              "\n",
              "  for (const file of files) {\n",
              "    const li = document.createElement('li');\n",
              "    li.append(span(file.name, {fontWeight: 'bold'}));\n",
              "    li.append(span(\n",
              "        `(${file.type || 'n/a'}) - ${file.size} bytes, ` +\n",
              "        `last modified: ${\n",
              "            file.lastModifiedDate ? file.lastModifiedDate.toLocaleDateString() :\n",
              "                                    'n/a'} - `));\n",
              "    const percent = span('0% done');\n",
              "    li.appendChild(percent);\n",
              "\n",
              "    outputElement.appendChild(li);\n",
              "\n",
              "    const fileDataPromise = new Promise((resolve) => {\n",
              "      const reader = new FileReader();\n",
              "      reader.onload = (e) => {\n",
              "        resolve(e.target.result);\n",
              "      };\n",
              "      reader.readAsArrayBuffer(file);\n",
              "    });\n",
              "    // Wait for the data to be ready.\n",
              "    let fileData = yield {\n",
              "      promise: fileDataPromise,\n",
              "      response: {\n",
              "        action: 'continue',\n",
              "      }\n",
              "    };\n",
              "\n",
              "    // Use a chunked sending to avoid message size limits. See b/62115660.\n",
              "    let position = 0;\n",
              "    do {\n",
              "      const length = Math.min(fileData.byteLength - position, MAX_PAYLOAD_SIZE);\n",
              "      const chunk = new Uint8Array(fileData, position, length);\n",
              "      position += length;\n",
              "\n",
              "      const base64 = btoa(String.fromCharCode.apply(null, chunk));\n",
              "      yield {\n",
              "        response: {\n",
              "          action: 'append',\n",
              "          file: file.name,\n",
              "          data: base64,\n",
              "        },\n",
              "      };\n",
              "\n",
              "      let percentDone = fileData.byteLength === 0 ?\n",
              "          100 :\n",
              "          Math.round((position / fileData.byteLength) * 100);\n",
              "      percent.textContent = `${percentDone}% done`;\n",
              "\n",
              "    } while (position < fileData.byteLength);\n",
              "  }\n",
              "\n",
              "  // All done.\n",
              "  yield {\n",
              "    response: {\n",
              "      action: 'complete',\n",
              "    }\n",
              "  };\n",
              "}\n",
              "\n",
              "scope.google = scope.google || {};\n",
              "scope.google.colab = scope.google.colab || {};\n",
              "scope.google.colab._files = {\n",
              "  _uploadFiles,\n",
              "  _uploadFilesContinue,\n",
              "};\n",
              "})(self);\n",
              "</script> "
            ]
          },
          "metadata": {}
        },
        {
          "output_type": "stream",
          "name": "stdout",
          "text": [
            "Saving myaudio.mp3 to myaudio.mp3\n"
          ]
        }
      ],
      "source": [
        "from google.colab import files\n",
        "uploaded = files.upload()"
      ]
    },
    {
      "cell_type": "code",
      "execution_count": 5,
      "metadata": {
        "id": "VXDoMlelYLtn"
      },
      "outputs": [],
      "source": [
        "wavFile=\"myaudio.mp3\""
      ]
    },
    {
      "cell_type": "code",
      "execution_count": 6,
      "metadata": {
        "colab": {
          "base_uri": "https://localhost:8080/"
        },
        "id": "uLtiCKIMT-ct",
        "outputId": "8888ba79-e151-46a5-c762-07b680619f83"
      },
      "outputs": [
        {
          "output_type": "stream",
          "name": "stderr",
          "text": [
            "/usr/local/lib/python3.8/dist-packages/librosa/core/audio.py:165: UserWarning: PySoundFile failed. Trying audioread instead.\n",
            "  warnings.warn(\"PySoundFile failed. Trying audioread instead.\")\n"
          ]
        }
      ],
      "source": [
        "wavData,_ = librosa.load(wavFile,sr=16000)\n",
        "vad=VoiceActivityDetection(wavData,frameRate)"
      ]
    },
    {
      "cell_type": "code",
      "execution_count": 7,
      "metadata": {
        "id": "qWrCuT8lUBcW"
      },
      "outputs": [],
      "source": [
        "mfcc = librosa.feature.mfcc(wavData, sr=16000, n_mfcc=20,hop_length=int(16000/frameRate)).T\n",
        "vad = np.reshape(vad,(len(vad),))\n",
        "if mfcc.shape[0] > vad.shape[0]:\n",
        "    vad = np.hstack((vad,np.zeros(mfcc.shape[0] - vad.shape[0]).astype('bool'))).astype('bool')\n",
        "elif mfcc.shape[0] < vad.shape[0]:\n",
        "    vad = vad[:mfcc.shape[0]]\n",
        "mfcc = mfcc[vad,:];"
      ]
    },
    {
      "cell_type": "markdown",
      "metadata": {
        "id": "OHAmgGuSUWxb"
      },
      "source": [
        "\n",
        "**N_Component**"
      ]
    },
    {
      "cell_type": "code",
      "execution_count": 8,
      "metadata": {
        "colab": {
          "base_uri": "https://localhost:8080/"
        },
        "id": "E8e2W1o4UIQl",
        "outputId": "289ce9f4-2fb2-4ba2-cd08-c263cf066d37"
      },
      "outputs": [
        {
          "output_type": "stream",
          "name": "stderr",
          "text": [
            "/usr/local/lib/python3.8/dist-packages/sklearn/mixture/_base.py:277: ConvergenceWarning: Initialization 1 did not converge. Try different init parameters, or increase max_iter, tol or check for degenerate data.\n",
            "  warnings.warn(\n"
          ]
        },
        {
          "output_type": "execute_result",
          "data": {
            "text/plain": [
              "array([ 1,  2,  3,  4,  5,  6,  7,  8,  9, 10, 11, 12, 13, 14, 15, 16, 17,\n",
              "       18, 19, 20, 21, 22, 23, 24])"
            ]
          },
          "metadata": {},
          "execution_count": 8
        }
      ],
      "source": [
        "n_components = np.arange(1, 25)\n",
        "models = [GaussianMixture(n, covariance_type='full', random_state=0).fit(mfcc)\n",
        "          for n in n_components]\n",
        "\n",
        "n_components"
      ]
    },
    {
      "cell_type": "code",
      "execution_count": 9,
      "metadata": {
        "colab": {
          "base_uri": "https://localhost:8080/",
          "height": 606
        },
        "id": "q4MucAh6UdM1",
        "outputId": "35bc40ca-bced-4b9c-9864-84c627f9b13c"
      },
      "outputs": [
        {
          "output_type": "display_data",
          "data": {
            "text/plain": [
              "<Figure size 1080x720 with 1 Axes>"
            ],
            "image/png": "[encoded data removed]"
          },
          "metadata": {
            "needs_background": "light"
          }
        }
      ],
      "source": [
        "plt.figure(figsize=(15, 10))\n",
        "plt.plot(n_components, [m.bic(mfcc) for m in models], label='BIC')\n",
        "plt.plot(n_components, [m.aic(mfcc) for m in models], label='AIC')\n",
        "plt.legend(loc='best')\n",
        "plt.xlabel('GMM n_components for an audio file');"
      ]
    },
    {
      "cell_type": "markdown",
      "metadata": {
        "id": "crKO0HMAUhgZ"
      },
      "source": [
        "GMM Training **bold text**"
      ]
    },
    {
      "cell_type": "code",
      "execution_count": 10,
      "metadata": {
        "id": "CHGnkjHTUlaf"
      },
      "outputs": [],
      "source": [
        "def trainGMM(wavFile, frameRate, segLen, vad, numMix):\n",
        "    wavData,_ = librosa.load(wavFile,sr=16000)\n",
        "    mfcc = librosa.feature.mfcc(wavData, sr=16000, n_mfcc=20,hop_length=int(16000/frameRate)).T\n",
        "    vad = np.reshape(vad,(len(vad),))\n",
        "    if mfcc.shape[0] > vad.shape[0]:\n",
        "        vad = np.hstack((vad,np.zeros(mfcc.shape[0] - vad.shape[0]).astype('bool'))).astype('bool')\n",
        "    elif mfcc.shape[0] < vad.shape[0]:\n",
        "        vad = vad[:mfcc.shape[0]]\n",
        "    mfcc = mfcc[vad,:];\n",
        "    print(\"Training GMM..\")\n",
        "    GMM = GaussianMixture(n_components=numMix,covariance_type='diag').fit(mfcc)\n",
        "    var_floor = 1e-5\n",
        "    segLikes = []\n",
        "    segSize = frameRate*segLen\n",
        "    for segI in range(int(np.ceil(float(mfcc.shape[0])/(frameRate*segLen)))):\n",
        "        startI = segI*segSize\n",
        "        endI = (segI+1)*segSize\n",
        "        if endI > mfcc.shape[0]:\n",
        "            endI = mfcc.shape[0]-1\n",
        "        if endI==startI:    # Reached the end of file\n",
        "            break\n",
        "        seg = mfcc[startI:endI,:]\n",
        "        compLikes = np.sum(GMM.predict_proba(seg),0)\n",
        "        segLikes.append(compLikes/seg.shape[0])\n",
        "    print(\"Training Done\")\n",
        "\n",
        "    return np.asarray(segLikes)"
      ]
    },
    {
      "cell_type": "code",
      "execution_count": 11,
      "metadata": {
        "colab": {
          "base_uri": "https://localhost:8080/"
        },
        "id": "VXmzyOvhUsEC",
        "outputId": "eee8c3b8-0193-4e96-cea3-921ed4eef827"
      },
      "outputs": [
        {
          "output_type": "stream",
          "name": "stderr",
          "text": [
            "/usr/local/lib/python3.8/dist-packages/librosa/core/audio.py:165: UserWarning: PySoundFile failed. Trying audioread instead.\n",
            "  warnings.warn(\"PySoundFile failed. Trying audioread instead.\")\n"
          ]
        },
        {
          "output_type": "stream",
          "name": "stdout",
          "text": [
            "Training GMM..\n",
            "Training Done\n"
          ]
        }
      ],
      "source": [
        "clusterset = trainGMM(wavFile, frameRate, segLen, vad, numMix)"
      ]
    },
    {
      "cell_type": "markdown",
      "metadata": {
        "id": "NrRx2v1pUw5N"
      },
      "source": [
        "**Clustering Analysis**"
      ]
    },
    {
      "cell_type": "code",
      "execution_count": 12,
      "metadata": {
        "id": "i7J4lzOVUvHT"
      },
      "outputs": [],
      "source": [
        "scaler = StandardScaler()\n",
        "X_scaled = scaler.fit_transform(clusterset)  \n",
        "# Normalizing the data so that the data approximately \n",
        "# follows a Gaussian distribution\n",
        "X_normalized = normalize(X_scaled)"
      ]
    },
    {
      "cell_type": "code",
      "execution_count": 13,
      "metadata": {
        "id": "L3UQyclqU89D"
      },
      "outputs": [],
      "source": [
        "cluster = AgglomerativeClustering(n_clusters=2, affinity='euclidean', linkage='ward') \n",
        "clust=cluster.fit_predict(X_normalized)"
      ]
    },
    {
      "cell_type": "markdown",
      "metadata": {
        "id": "4-9hMV8SVAIx"
      },
      "source": [
        "**Convert Segment to Frame**"
      ]
    },
    {
      "cell_type": "code",
      "execution_count": 14,
      "metadata": {
        "id": "i8z29RgwVEih"
      },
      "outputs": [],
      "source": [
        "def SegmentFrame(clust, segLen, frameRate, numFrames):\n",
        "    frameClust = np.zeros(numFrames)\n",
        "    for clustI in range(len(clust)-1):\n",
        "        frameClust[clustI*segLen*frameRate:(clustI+1)*segLen*frameRate] = clust[clustI]*np.ones(segLen*frameRate)\n",
        "    frameClust[(clustI+1)*segLen*frameRate:] = clust[clustI+1]*np.ones(numFrames-(clustI+1)*segLen*frameRate)\n",
        "    return frameClust"
      ]
    },
    {
      "cell_type": "code",
      "execution_count": 15,
      "metadata": {
        "id": "zUsE3sU-VIUz"
      },
      "outputs": [],
      "source": [
        "frameClust = SegmentFrame(clust, segLen, frameRate, mfcc.shape[0])"
      ]
    },
    {
      "cell_type": "markdown",
      "metadata": {
        "id": "n9P-DuoDVPb5"
      },
      "source": [
        "**Adding Speaker Labels**"
      ]
    },
    {
      "cell_type": "code",
      "execution_count": 16,
      "metadata": {
        "id": "B9-GHAnzVNPi"
      },
      "outputs": [],
      "source": [
        "def speakerdiarisationdf(hyp, frameRate, wavFile):\n",
        "    audioname=[]\n",
        "    starttime=[]\n",
        "    endtime=[]\n",
        "    speakerlabel=[]\n",
        "            \n",
        "    spkrChangePoints = np.where(hyp[:-1] != hyp[1:])[0]\n",
        "    if spkrChangePoints[0]!=0 and hyp[0]!=-1:\n",
        "        spkrChangePoints = np.concatenate(([0],spkrChangePoints))\n",
        "    spkrLabels = []    \n",
        "    for spkrHomoSegI in range(len(spkrChangePoints)):\n",
        "        spkrLabels.append(hyp[spkrChangePoints[spkrHomoSegI]+1])\n",
        "    for spkrI,spkr in enumerate(spkrLabels[:-1]):\n",
        "        if spkr!=-1:\n",
        "            audioname.append(wavFile.split('/')[-1].split('.')[0]+\".wav\")\n",
        "            starttime.append((spkrChangePoints[spkrI]+1)/float(frameRate))\n",
        "            endtime.append((spkrChangePoints[spkrI+1]-spkrChangePoints[spkrI])/float(frameRate))\n",
        "            speakerlabel.append(\"Speaker \"+str(int(spkr)))\n",
        "    if spkrLabels[-1]!=-1:\n",
        "        audioname.append(wavFile.split('/')[-1].split('.')[0]+\".wav\")\n",
        "        starttime.append(spkrChangePoints[-1]/float(frameRate))\n",
        "        endtime.append((len(hyp) - spkrChangePoints[-1])/float(frameRate))\n",
        "        speakerlabel.append(\"Speaker \"+str(int(spkrLabels[-1])))\n",
        "    #\n",
        "    speakerdf=pd.DataFrame({\"Audio\":audioname,\"starttime\":starttime,\"endtime\":endtime,\"speakerlabel\":speakerlabel})\n",
        "    \n",
        "    spdatafinal=pd.DataFrame(columns=['Audio','SpeakerLabel','StartTime','EndTime'])\n",
        "    i=0\n",
        "    k=0\n",
        "    j=0\n",
        "    spfind=\"\"\n",
        "    stime=\"\"\n",
        "    etime=\"\"\n",
        "    for row in speakerdf.itertuples():\n",
        "        if(i==0):\n",
        "            spfind=row.speakerlabel\n",
        "            stime=row.starttime\n",
        "        else:\n",
        "            if(spfind==row.speakerlabel):\n",
        "                etime=row.starttime        \n",
        "            else:\n",
        "                spdatafinal.loc[k]=[wavFile.split('/')[-1].split('.')[0]+\".wav\",spfind,stime,row.starttime]\n",
        "                k=k+1\n",
        "                spfind=row.speakerlabel\n",
        "                stime=row.starttime\n",
        "        i=i+1\n",
        "    spdatafinal.loc[k]=[wavFile.split('/')[-1].split('.')[0]+\".wav\",spfind,stime,etime]\n",
        "    return spdatafinal"
      ]
    },
    {
      "cell_type": "code",
      "execution_count": 17,
      "metadata": {
        "id": "1OTTD-nnVXpi"
      },
      "outputs": [],
      "source": [
        "pass1hyp = -1*np.ones(len(vad))\n",
        "pass1hyp[vad] = frameClust\n",
        "spkdf=speakerdiarisationdf(pass1hyp, frameRate, wavFile)"
      ]
    },
    {
      "cell_type": "code",
      "execution_count": 18,
      "metadata": {
        "id": "m6shCmBfVZ-U"
      },
      "outputs": [],
      "source": [
        "spkdf[\"TimeSeconds\"]=spkdf.EndTime-spkdf.StartTime"
      ]
    },
    {
      "cell_type": "code",
      "execution_count": 19,
      "metadata": {
        "colab": {
          "base_uri": "https://localhost:8080/",
          "height": 175
        },
        "id": "tSlZCA03Vc_6",
        "outputId": "7bbdd3b5-13a0-425c-cc3c-aab9e4bfe028"
      },
      "outputs": [
        {
          "output_type": "execute_result",
          "data": {
            "text/plain": [
              "         Audio SpeakerLabel  StartTime  EndTime  TimeSeconds\n",
              "0  myaudio.wav    Speaker 1       5.80    24.90        19.10\n",
              "1  myaudio.wav    Speaker 0      24.90    46.14        21.24\n",
              "2  myaudio.wav    Speaker 1      46.14    72.46        26.32\n",
              "3  myaudio.wav    Speaker 0      72.46   109.04        36.58"
            ],
            "text/html": [
              "\n",
              "  <div id=\"df-4db6d6cd-4a9c-4d20-8141-eb58f217687f\">\n",
              "    <div class=\"colab-df-container\">\n",
              "      <div>\n",
              "<style scoped>\n",
              "    .dataframe tbody tr th:only-of-type {\n",
              "        vertical-align: middle;\n",
              "    }\n",
              "\n",
              "    .dataframe tbody tr th {\n",
              "        vertical-align: top;\n",
              "    }\n",
              "\n",
              "    .dataframe thead th {\n",
              "        text-align: right;\n",
              "    }\n",
              "</style>\n",
              "<table border=\"1\" class=\"dataframe\">\n",
              "  <thead>\n",
              "    <tr style=\"text-align: right;\">\n",
              "      <th></th>\n",
              "      <th>Audio</th>\n",
              "      <th>SpeakerLabel</th>\n",
              "      <th>StartTime</th>\n",
              "      <th>EndTime</th>\n",
              "      <th>TimeSeconds</th>\n",
              "    </tr>\n",
              "  </thead>\n",
              "  <tbody>\n",
              "    <tr>\n",
              "      <th>0</th>\n",
              "      <td>myaudio.wav</td>\n",
              "      <td>Speaker 1</td>\n",
              "      <td>5.80</td>\n",
              "      <td>24.90</td>\n",
              "      <td>19.10</td>\n",
              "    </tr>\n",
              "    <tr>\n",
              "      <th>1</th>\n",
              "      <td>myaudio.wav</td>\n",
              "      <td>Speaker 0</td>\n",
              "      <td>24.90</td>\n",
              "      <td>46.14</td>\n",
              "      <td>21.24</td>\n",
              "    </tr>\n",
              "    <tr>\n",
              "      <th>2</th>\n",
              "      <td>myaudio.wav</td>\n",
              "      <td>Speaker 1</td>\n",
              "      <td>46.14</td>\n",
              "      <td>72.46</td>\n",
              "      <td>26.32</td>\n",
              "    </tr>\n",
              "    <tr>\n",
              "      <th>3</th>\n",
              "      <td>myaudio.wav</td>\n",
              "      <td>Speaker 0</td>\n",
              "      <td>72.46</td>\n",
              "      <td>109.04</td>\n",
              "      <td>36.58</td>\n",
              "    </tr>\n",
              "  </tbody>\n",
              "</table>\n",
              "</div>\n",
              "      <button class=\"colab-df-convert\" onclick=\"convertToInteractive('df-4db6d6cd-4a9c-4d20-8141-eb58f217687f')\"\n",
              "              title=\"Convert this dataframe to an interactive table.\"\n",
              "              style=\"display:none;\">\n",
              "        \n",
              "  <svg xmlns=\"http://www.w3.org/2000/svg\" height=\"24px\"viewBox=\"0 0 24 24\"\n",
              "       width=\"24px\">\n",
              "    <path d=\"M0 0h24v24H0V0z\" fill=\"none\"/>\n",
              "    <path d=\"M18.56 5.44l.94 2.06.94-2.06 2.06-.94-2.06-.94-.94-2.06-.94 2.06-2.06.94zm-11 1L8.5 8.5l.94-2.06 2.06-.94-2.06-.94L8.5 2.5l-.94 2.06-2.06.94zm10 10l.94 2.06.94-2.06 2.06-.94-2.06-.94-.94-2.06-.94 2.06-2.06.94z\"/><path d=\"M17.41 7.96l-1.37-1.37c-.4-.4-.92-.59-1.43-.59-.52 0-1.04.2-1.43.59L10.3 9.45l-7.72 7.72c-.78.78-.78 2.05 0 2.83L4 21.41c.39.39.9.59 1.41.59.51 0 1.02-.2 1.41-.59l7.78-7.78 2.81-2.81c.8-.78.8-2.07 0-2.86zM5.41 20L4 18.59l7.72-7.72 1.47 1.35L5.41 20z\"/>\n",
              "  </svg>\n",
              "      </button>\n",
              "      \n",
              "  <style>\n",
              "    .colab-df-container {\n",
              "      display:flex;\n",
              "      flex-wrap:wrap;\n",
              "      gap: 12px;\n",
              "    }\n",
              "\n",
              "    .colab-df-convert {\n",
              "      background-color: #E8F0FE;\n",
              "      border: none;\n",
              "      border-radius: 50%;\n",
              "      cursor: pointer;\n",
              "      display: none;\n",
              "      fill: #1967D2;\n",
              "      height: 32px;\n",
              "      padding: 0 0 0 0;\n",
              "      width: 32px;\n",
              "    }\n",
              "\n",
              "    .colab-df-convert:hover {\n",
              "      background-color: #E2EBFA;\n",
              "      box-shadow: 0px 1px 2px rgba(60, 64, 67, 0.3), 0px 1px 3px 1px rgba(60, 64, 67, 0.15);\n",
              "      fill: #174EA6;\n",
              "    }\n",
              "\n",
              "    [theme=dark] .colab-df-convert {\n",
              "      background-color: #3B4455;\n",
              "      fill: #D2E3FC;\n",
              "    }\n",
              "\n",
              "    [theme=dark] .colab-df-convert:hover {\n",
              "      background-color: #434B5C;\n",
              "      box-shadow: 0px 1px 3px 1px rgba(0, 0, 0, 0.15);\n",
              "      filter: drop-shadow(0px 1px 2px rgba(0, 0, 0, 0.3));\n",
              "      fill: #FFFFFF;\n",
              "    }\n",
              "  </style>\n",
              "\n",
              "      <script>\n",
              "        const buttonEl =\n",
              "          document.querySelector('#df-4db6d6cd-4a9c-4d20-8141-eb58f217687f button.colab-df-convert');\n",
              "        buttonEl.style.display =\n",
              "          google.colab.kernel.accessAllowed ? 'block' : 'none';\n",
              "\n",
              "        async function convertToInteractive(key) {\n",
              "          const element = document.querySelector('#df-4db6d6cd-4a9c-4d20-8141-eb58f217687f');\n",
              "          const dataTable =\n",
              "            await google.colab.kernel.invokeFunction('convertToInteractive',\n",
              "                                                     [key], {});\n",
              "          if (!dataTable) return;\n",
              "\n",
              "          const docLinkHtml = 'Like what you see? Visit the ' +\n",
              "            '<a target=\"_blank\" href=https://colab.research.google.com/notebooks/data_table.ipynb>data table notebook</a>'\n",
              "            + ' to learn more about interactive tables.';\n",
              "          element.innerHTML = '';\n",
              "          dataTable['output_type'] = 'display_data';\n",
              "          await google.colab.output.renderOutput(dataTable, element);\n",
              "          const docLink = document.createElement('div');\n",
              "          docLink.innerHTML = docLinkHtml;\n",
              "          element.appendChild(docLink);\n",
              "        }\n",
              "      </script>\n",
              "    </div>\n",
              "  </div>\n",
              "  "
            ]
          },
          "metadata": {},
          "execution_count": 19
        }
      ],
      "source": [
        "spkdf"
      ]
    }
  ],
  "metadata": {
    "colab": {
      "provenance": []
    },
    "kernelspec": {
      "display_name": "Python 3",
      "name": "python3"
    },
    "language_info": {
      "name": "python"
    }
  },
  "nbformat": 4,
  "nbformat_minor": 0
}